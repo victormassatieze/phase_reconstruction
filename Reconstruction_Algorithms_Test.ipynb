{
 "cells": [
  {
   "cell_type": "code",
   "execution_count": null,
   "id": "cff18dbe",
   "metadata": {
    "scrolled": true
   },
   "outputs": [],
   "source": [
    "import sys\n",
    "\n",
    "sys.path.insert(1, './griffin_lim')\n",
    "sys.path.insert(1, './RTISI')\n",
    "sys.path.insert(1, './RTISI-LA')\n",
    "\n",
    "from GL_run import *\n",
    "from RTISI_run import *\n",
    "from RTISI_LA_run import *\n",
    "from get_specgram import *"
   ]
  },
  {
   "cell_type": "code",
   "execution_count": null,
   "id": "db63bf83",
   "metadata": {
    "scrolled": true
   },
   "outputs": [],
   "source": [
    "fft_size = 2048\n",
    "hop_size = fft_size // 4\n",
    "\n",
    "files = [\"440HzSin.wav\", \"440HzSin_440HzCos.wav\", \"440HzSin_466HzSin.wav\", \"peixe-inteligente.wav\", \"sonataK571.wav\"]\n",
    "\n",
    "for file in files:\n",
    "    run_GL(file, fft_size, hop_size)\n",
    "    run_RTISI(file, fft_size, hop_size)\n",
    "    run_RTISI_LA(file, fft_size, hop_size)"
   ]
  },
  {
   "cell_type": "code",
   "execution_count": null,
   "id": "b0858968",
   "metadata": {
    "scrolled": true
   },
   "outputs": [],
   "source": [
    "files = [\"440HzSin\", \"440HzSin_440HzCos\", \"440HzSin_466HzSin\", \"peixe-inteligente\", \"sonataK571\"]\n",
    "\n",
    "sr = 48000\n",
    "\n",
    "for file in files:\n",
    "    save_spectrograms(file, sr)"
   ]
  },
  {
   "cell_type": "code",
   "execution_count": null,
   "id": "b1fa6ff8",
   "metadata": {
    "scrolled": true
   },
   "outputs": [],
   "source": [
    "file = \"sonataK571\"\n",
    "\n",
    "save_spectrograms(file, sr)"
   ]
  },
  {
   "cell_type": "code",
   "execution_count": null,
   "id": "a53bf73e",
   "metadata": {},
   "outputs": [],
   "source": [
    "y, sr = librosa.load(\"./originais/peixe-inteligente.wav\",sr)\n",
    "Y = np.fft.rfft(y)\n",
    "P = np.sum(np.abs(Y)**2)/Y.size\n",
    "print(P)"
   ]
  },
  {
   "cell_type": "code",
   "execution_count": null,
   "id": "f572c516",
   "metadata": {
    "scrolled": false
   },
   "outputs": [],
   "source": [
    "y, sr = librosa.load(\"./resultados/RTISI_LA_peixe-inteligente.wav\",sr)\n",
    "Y = np.fft.rfft(y)\n",
    "P = np.sum(np.abs(Y)**2)/Y.size\n",
    "print(P)"
   ]
  }
 ],
 "metadata": {
  "kernelspec": {
   "display_name": "Python 3 (ipykernel)",
   "language": "python",
   "name": "python3"
  },
  "language_info": {
   "codemirror_mode": {
    "name": "ipython",
    "version": 3
   },
   "file_extension": ".py",
   "mimetype": "text/x-python",
   "name": "python",
   "nbconvert_exporter": "python",
   "pygments_lexer": "ipython3",
   "version": "3.8.8"
  }
 },
 "nbformat": 4,
 "nbformat_minor": 5
}
